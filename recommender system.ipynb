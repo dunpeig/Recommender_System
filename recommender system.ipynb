{
 "cells": [
  {
   "cell_type": "code",
   "execution_count": 43,
   "id": "4371b9cb",
   "metadata": {},
   "outputs": [],
   "source": [
    "import pandas as pd\n",
    "import numpy as np\n",
    "from sklearn.metrics.pairwise import pairwise_distances\n",
    "from sklearn.metrics import jaccard_score"
   ]
  },
  {
   "cell_type": "code",
   "execution_count": 44,
   "id": "0bd1973e",
   "metadata": {},
   "outputs": [
    {
     "name": "stdout",
     "output_type": "stream",
     "text": [
      "Item Jaccard Similarity Matrix:\n",
      "        Item A    Item B  Item C    Item D    Item E\n",
      "Item A    1.00  0.200000    0.75  0.400000  0.200000\n",
      "Item B    0.20  1.000000    0.25  0.250000  0.333333\n",
      "Item C    0.75  0.250000    1.00  0.200000  0.000000\n",
      "Item D    0.40  0.250000    0.20  1.000000  0.666667\n",
      "Item E    0.20  0.333333    0.00  0.666667  1.000000\n",
      "\n",
      "User Jaccard Similarity Matrix:\n",
      "          User1  User2     User3  User4     User5\n",
      "User1  1.000000   0.50  0.666667    0.2  0.500000\n",
      "User2  0.500000   1.00  0.250000    0.5  0.200000\n",
      "User3  0.666667   0.25  1.000000    0.0  0.666667\n",
      "User4  0.200000   0.50  0.000000    1.0  0.200000\n",
      "User5  0.500000   0.20  0.666667    0.2  1.000000\n"
     ]
    }
   ],
   "source": [
    "users = ['User1', 'User2', 'User3', 'User4', 'User5']\n",
    "items = ['Item A', 'Item B', 'Item C', 'Item D', 'Item E']\n",
    "\n",
    "datasets = [\n",
    "    [1, 0, 1, 1, 0],\n",
    "    [1, 0, 0, 1, 1],\n",
    "    [1, 0, 1, 0, 0],\n",
    "    [0, 1, 0, 1, 1],\n",
    "    [1, 1, 1, 0, 0],\n",
    "]\n",
    "\n",
    "df = pd.DataFrame(datasets, columns=items, index=users)\n",
    "\n",
    "# Calculate Jaccard similarity for items\n",
    "item_jaccard_similarity_matrix = pd.DataFrame(0, index=items, columns=items, dtype=float)\n",
    "\n",
    "for col1 in items:\n",
    "    for col2 in items:\n",
    "        item_jaccard_similarity_matrix.loc[col1, col2] = jaccard_score(df[col1], df[col2])\n",
    "\n",
    "print(\"Item Jaccard Similarity Matrix:\")\n",
    "print(item_jaccard_similarity_matrix)\n",
    "\n",
    "# Calculate Jaccard similarity for users\n",
    "user_jaccard_similarity_matrix = pd.DataFrame(0, index=users, columns=users, dtype=float)\n",
    "\n",
    "for user1 in users:\n",
    "    for user2 in users:\n",
    "        user_jaccard_similarity_matrix.loc[user1, user2] = jaccard_score(df.loc[user1], df.loc[user2])\n",
    "\n",
    "print(\"\\nUser Jaccard Similarity Matrix:\")\n",
    "print(user_jaccard_similarity_matrix)"
   ]
  },
  {
   "cell_type": "code",
   "execution_count": 45,
   "id": "4085c894",
   "metadata": {},
   "outputs": [],
   "source": [
    "# find similar users based similarities, except itself\n",
    "topN_users = {}\n",
    "for i in user_jaccard_similarity_matrix.index:\n",
    "    _df = user_jaccard_similarity_matrix.loc[i].drop([i])\n",
    "    _df_sorted = _df.sort_values(ascending=False)\n",
    "    top2 = list(_df_sorted.index[:2])\n",
    "    topN_users[i] = top2"
   ]
  },
  {
   "cell_type": "code",
   "execution_count": 46,
   "id": "c805b906",
   "metadata": {},
   "outputs": [
    {
     "data": {
      "text/plain": [
       "{'User1': ['User3', 'User2'],\n",
       " 'User2': ['User1', 'User4'],\n",
       " 'User3': ['User1', 'User5'],\n",
       " 'User4': ['User2', 'User1'],\n",
       " 'User5': ['User3', 'User1']}"
      ]
     },
     "execution_count": 46,
     "metadata": {},
     "output_type": "execute_result"
    }
   ],
   "source": [
    "topN_users"
   ]
  },
  {
   "cell_type": "code",
   "execution_count": 35,
   "id": "3819817c",
   "metadata": {},
   "outputs": [
    {
     "data": {
      "text/html": [
       "<div>\n",
       "<style scoped>\n",
       "    .dataframe tbody tr th:only-of-type {\n",
       "        vertical-align: middle;\n",
       "    }\n",
       "\n",
       "    .dataframe tbody tr th {\n",
       "        vertical-align: top;\n",
       "    }\n",
       "\n",
       "    .dataframe thead th {\n",
       "        text-align: right;\n",
       "    }\n",
       "</style>\n",
       "<table border=\"1\" class=\"dataframe\">\n",
       "  <thead>\n",
       "    <tr style=\"text-align: right;\">\n",
       "      <th></th>\n",
       "      <th>Item A</th>\n",
       "      <th>Item B</th>\n",
       "      <th>Item C</th>\n",
       "      <th>Item D</th>\n",
       "      <th>Item E</th>\n",
       "    </tr>\n",
       "  </thead>\n",
       "  <tbody>\n",
       "    <tr>\n",
       "      <th>User1</th>\n",
       "      <td>1</td>\n",
       "      <td>0</td>\n",
       "      <td>1</td>\n",
       "      <td>1</td>\n",
       "      <td>0</td>\n",
       "    </tr>\n",
       "    <tr>\n",
       "      <th>User2</th>\n",
       "      <td>1</td>\n",
       "      <td>0</td>\n",
       "      <td>0</td>\n",
       "      <td>1</td>\n",
       "      <td>1</td>\n",
       "    </tr>\n",
       "    <tr>\n",
       "      <th>User3</th>\n",
       "      <td>1</td>\n",
       "      <td>0</td>\n",
       "      <td>1</td>\n",
       "      <td>0</td>\n",
       "      <td>0</td>\n",
       "    </tr>\n",
       "    <tr>\n",
       "      <th>User4</th>\n",
       "      <td>0</td>\n",
       "      <td>1</td>\n",
       "      <td>0</td>\n",
       "      <td>1</td>\n",
       "      <td>1</td>\n",
       "    </tr>\n",
       "    <tr>\n",
       "      <th>User5</th>\n",
       "      <td>1</td>\n",
       "      <td>1</td>\n",
       "      <td>1</td>\n",
       "      <td>0</td>\n",
       "      <td>0</td>\n",
       "    </tr>\n",
       "  </tbody>\n",
       "</table>\n",
       "</div>"
      ],
      "text/plain": [
       "       Item A  Item B  Item C  Item D  Item E\n",
       "User1       1       0       1       1       0\n",
       "User2       1       0       0       1       1\n",
       "User3       1       0       1       0       0\n",
       "User4       0       1       0       1       1\n",
       "User5       1       1       1       0       0"
      ]
     },
     "execution_count": 35,
     "metadata": {},
     "output_type": "execute_result"
    }
   ],
   "source": [
    "df"
   ]
  },
  {
   "cell_type": "code",
   "execution_count": 40,
   "id": "d2810a81",
   "metadata": {},
   "outputs": [
    {
     "data": {
      "text/plain": [
       "Item A    1\n",
       "Item B    0\n",
       "Item C    1\n",
       "Item D    0\n",
       "Item E    0\n",
       "Name: User3, dtype: int64"
      ]
     },
     "execution_count": 40,
     "metadata": {},
     "output_type": "execute_result"
    }
   ],
   "source": [
    "df.loc['User3']"
   ]
  },
  {
   "cell_type": "code",
   "execution_count": 47,
   "id": "f37ccc31",
   "metadata": {},
   "outputs": [
    {
     "data": {
      "text/plain": [
       "{'User1': {'Item E'},\n",
       " 'User2': {'Item B', 'Item C'},\n",
       " 'User3': {'Item B', 'Item D'},\n",
       " 'User4': {'Item A', 'Item C'},\n",
       " 'User5': {'Item D'}}"
      ]
     },
     "execution_count": 47,
     "metadata": {},
     "output_type": "execute_result"
    }
   ],
   "source": [
    "rs_results = {}\n",
    "for user, sim_users in topN_users.items():\n",
    "    rs_result = set()\n",
    "    for sim_user in sim_users:\n",
    "        rs_result = rs_result.union(set(df.loc[sim_user].replace(0,np.nan).dropna().index))\n",
    "        \n",
    "    rs_result -= set(df.loc[user].replace(0,np.nan).dropna().index)\n",
    "    rs_results[user] = rs_result \n",
    "    \n",
    "rs_results"
   ]
  },
  {
   "cell_type": "code",
   "execution_count": 50,
   "id": "769bb764",
   "metadata": {},
   "outputs": [
    {
     "name": "stdout",
     "output_type": "stream",
     "text": [
      "user corrlation\n",
      "        User1   User2   User3   User4   User5\n",
      "User1  1.0000  0.8528  0.7071  0.0000 -0.7921\n",
      "User2  0.8528  1.0000  0.4677  0.4900 -0.9001\n",
      "User3  0.7071  0.4677  1.0000 -0.1612 -0.4666\n",
      "User4  0.0000  0.4900 -0.1612  1.0000 -0.6415\n",
      "User5 -0.7921 -0.9001 -0.4666 -0.6415  1.0000\n",
      "item corrlation\n",
      "        Item A  Item B  Item C  Item D  Item E\n",
      "Item A  1.0000 -0.4767 -0.1231  0.5322  0.9695\n",
      "Item B -0.4767  1.0000  0.6455 -0.3101 -0.4781\n",
      "Item C -0.1231  0.6455  1.0000 -0.7206 -0.4276\n",
      "Item D  0.5322 -0.3101 -0.7206  1.0000  0.5817\n",
      "Item E  0.9695 -0.4781 -0.4276  0.5817  1.0000\n"
     ]
    }
   ],
   "source": [
    "# ratings case \n",
    "users = ['User1', 'User2', 'User3', 'User4', 'User5']\n",
    "items = ['Item A', 'Item B', 'Item C', 'Item D', 'Item E']\n",
    "\n",
    "datasets = [\n",
    "    [5, 3, 4, 4, None],\n",
    "    [3, 1, 2, 3, 3],\n",
    "    [4, 3, 4, 3, 5],\n",
    "    [3, 3, 1, 5, 4],\n",
    "    [1, 5, 5, 2, 1],\n",
    "]\n",
    "\n",
    "df = pd.DataFrame(datasets, columns=items, index=users)\n",
    "user_similar = df.T.corr()\n",
    "item_similar = df.corr()\n",
    "print(\"user corrlation\")\n",
    "print(user_similar.round(4))\n",
    "print(\"item corrlation\")\n",
    "print(item_similar.round(4))"
   ]
  },
  {
   "cell_type": "code",
   "execution_count": 51,
   "id": "3cd94508",
   "metadata": {},
   "outputs": [
    {
     "data": {
      "text/html": [
       "<div>\n",
       "<style scoped>\n",
       "    .dataframe tbody tr th:only-of-type {\n",
       "        vertical-align: middle;\n",
       "    }\n",
       "\n",
       "    .dataframe tbody tr th {\n",
       "        vertical-align: top;\n",
       "    }\n",
       "\n",
       "    .dataframe thead th {\n",
       "        text-align: right;\n",
       "    }\n",
       "</style>\n",
       "<table border=\"1\" class=\"dataframe\">\n",
       "  <thead>\n",
       "    <tr style=\"text-align: right;\">\n",
       "      <th></th>\n",
       "      <th>Item A</th>\n",
       "      <th>Item B</th>\n",
       "      <th>Item C</th>\n",
       "      <th>Item D</th>\n",
       "      <th>Item E</th>\n",
       "    </tr>\n",
       "  </thead>\n",
       "  <tbody>\n",
       "    <tr>\n",
       "      <th>User1</th>\n",
       "      <td>5</td>\n",
       "      <td>3</td>\n",
       "      <td>4</td>\n",
       "      <td>4</td>\n",
       "      <td>NaN</td>\n",
       "    </tr>\n",
       "    <tr>\n",
       "      <th>User2</th>\n",
       "      <td>3</td>\n",
       "      <td>1</td>\n",
       "      <td>2</td>\n",
       "      <td>3</td>\n",
       "      <td>3.0</td>\n",
       "    </tr>\n",
       "    <tr>\n",
       "      <th>User3</th>\n",
       "      <td>4</td>\n",
       "      <td>3</td>\n",
       "      <td>4</td>\n",
       "      <td>3</td>\n",
       "      <td>5.0</td>\n",
       "    </tr>\n",
       "    <tr>\n",
       "      <th>User4</th>\n",
       "      <td>3</td>\n",
       "      <td>3</td>\n",
       "      <td>1</td>\n",
       "      <td>5</td>\n",
       "      <td>4.0</td>\n",
       "    </tr>\n",
       "    <tr>\n",
       "      <th>User5</th>\n",
       "      <td>1</td>\n",
       "      <td>5</td>\n",
       "      <td>5</td>\n",
       "      <td>2</td>\n",
       "      <td>1.0</td>\n",
       "    </tr>\n",
       "  </tbody>\n",
       "</table>\n",
       "</div>"
      ],
      "text/plain": [
       "       Item A  Item B  Item C  Item D  Item E\n",
       "User1       5       3       4       4     NaN\n",
       "User2       3       1       2       3     3.0\n",
       "User3       4       3       4       3     5.0\n",
       "User4       3       3       1       5     4.0\n",
       "User5       1       5       5       2     1.0"
      ]
     },
     "execution_count": 51,
     "metadata": {},
     "output_type": "execute_result"
    }
   ],
   "source": [
    "df"
   ]
  },
  {
   "cell_type": "code",
   "execution_count": null,
   "id": "b99f1cac",
   "metadata": {},
   "outputs": [],
   "source": []
  },
  {
   "cell_type": "code",
   "execution_count": null,
   "id": "cd041056",
   "metadata": {},
   "outputs": [],
   "source": []
  },
  {
   "cell_type": "code",
   "execution_count": null,
   "id": "367b43bd",
   "metadata": {},
   "outputs": [],
   "source": []
  },
  {
   "cell_type": "code",
   "execution_count": null,
   "id": "02f7c008",
   "metadata": {},
   "outputs": [],
   "source": []
  }
 ],
 "metadata": {
  "kernelspec": {
   "display_name": "Python 3 (ipykernel)",
   "language": "python",
   "name": "python3"
  },
  "language_info": {
   "codemirror_mode": {
    "name": "ipython",
    "version": 3
   },
   "file_extension": ".py",
   "mimetype": "text/x-python",
   "name": "python",
   "nbconvert_exporter": "python",
   "pygments_lexer": "ipython3",
   "version": "3.8.12"
  }
 },
 "nbformat": 4,
 "nbformat_minor": 5
}
